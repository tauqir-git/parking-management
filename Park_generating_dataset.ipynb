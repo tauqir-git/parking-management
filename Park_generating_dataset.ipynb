{
 "cells": [
  {
   "cell_type": "code",
   "execution_count": 1,
   "id": "282bb4c0-436a-43b0-a398-ff1a0a392082",
   "metadata": {},
   "outputs": [],
   "source": [
    "import pandas as pd\n",
    "import numpy as np\n",
    "import random"
   ]
  },
  {
   "cell_type": "code",
   "execution_count": 3,
   "id": "ade5004a-4abc-4d1b-8a61-1825629eaf1a",
   "metadata": {},
   "outputs": [],
   "source": [
    "# Define possible values\n",
    "time_slots = [f\"{str(i).zfill(2)}:00-{str(i+2).zfill(2)}:00\" for i in range(0, 24, 2)]\n",
    "days_of_week = ['Sunday', 'Monday', 'Tuesday', 'Wednesday', 'Thursday', 'Friday', 'Saturday']\n",
    "weather_conditions = ['Sunny', 'Rainy', 'Cloudy', 'Windy']"
   ]
  },
  {
   "cell_type": "code",
   "execution_count": 5,
   "id": "ff836010-5503-4fa1-948e-20022c1497c7",
   "metadata": {},
   "outputs": [],
   "source": [
    "# Locations with adjusted bike capacity where missing\n",
    "location_data = {\n",
    "    'Orion Mall, Malleshwaram': {'car': 5200, 'bike': 1000},\n",
    "    'Phoenix Marketcity, Whitefield': {'car': 1700, 'bike': 500},\n",
    "    'Mantri Square Mall, Malleswaram': {'car': 1800, 'bike': 550},\n",
    "    'Total Mall, Old Airport Road': {'car': 100, 'bike': 200},\n",
    "    'Brigade Road': {'car': 85, 'bike': 300},\n",
    "    'Commercial Street': {'car': 75, 'bike': 250},\n",
    "    'Church Street': {'car': 200, 'bike': 300},\n",
    "    'Indiranagar 100 Feet Road': {'car': 150, 'bike': 250},\n",
    "    'Jayanagar 4th Block': {'car': 250, 'bike': 300},\n",
    "    'Manyata Tech Park, Hebbal': {'car': 1200, 'bike': 500},\n",
    "    'International Tech Park (ITPL), Whitefield': {'car': 1000, 'bike': 400},\n",
    "    'JC Road Multi-Level Parking': {'car': 150, 'bike': 150},\n",
    "    'KR Market Parking Complex': {'car': 70, 'bike': 300},\n",
    "    'Freedom Park': {'car': 1000, 'bike': 400},\n",
    "    'Citywide Parking Overview': {'car': 1300, 'bike': 4000}\n",
    "}"
   ]
  },
  {
   "cell_type": "code",
   "execution_count": 7,
   "id": "11bfc3ee-f117-47db-bf76-2be983aef227",
   "metadata": {},
   "outputs": [],
   "source": [
    "# Prepare empty list\n",
    "data = []"
   ]
  },
  {
   "cell_type": "code",
   "execution_count": 9,
   "id": "3aa5ea51-95d9-4c5f-b657-654127e9bbd8",
   "metadata": {},
   "outputs": [],
   "source": [
    "# Generate 2000 rows\n",
    "for _ in range(2000):\n",
    "    time = random.choice(time_slots)\n",
    "    day = random.choice(days_of_week)\n",
    "    loc = random.choice(list(location_data.keys()))\n",
    "    is_holiday = np.random.choice([0,1], p=[0.85,0.15])\n",
    "    weather = random.choice(weather_conditions)\n",
    "    car_slots = location_data[loc]['car']\n",
    "    bike_slots = location_data[loc]['bike']\n",
    "    total_slots = car_slots + bike_slots\n",
    "    event_nearby = np.random.choice([0,1], p=[0.8,0.2])\n",
    "    \n",
    "    # Base free slots (simulate demand patterns)\n",
    "    car_free_base = car_slots * np.random.uniform(0.3, 0.9)\n",
    "    bike_free_base = bike_slots * np.random.uniform(0.3, 0.9)\n",
    "    \n",
    "    if day in ['Saturday', 'Sunday'] or is_holiday or event_nearby:\n",
    "        car_free = int(car_free_base * np.random.uniform(0.3, 0.6))\n",
    "        bike_free = int(bike_free_base * np.random.uniform(0.3, 0.6))\n",
    "    else:\n",
    "        car_free = int(car_free_base * np.random.uniform(0.6, 0.9))\n",
    "        bike_free = int(bike_free_base * np.random.uniform(0.6, 0.9))\n",
    "    \n",
    "    if '18' in time or '20' in time:\n",
    "        car_free = max(0, int(car_free * 0.5))\n",
    "        bike_free = max(0, int(bike_free * 0.5))\n",
    "    \n",
    "    data.append([time, day, loc, is_holiday, weather, total_slots, car_free, bike_free, event_nearby])"
   ]
  },
  {
   "cell_type": "code",
   "execution_count": 11,
   "id": "977111ba-15e7-4975-8142-c9faaa935ef6",
   "metadata": {},
   "outputs": [],
   "source": [
    "# Create DataFrame\n",
    "df = pd.DataFrame(data, columns=[\n",
    "    'time', 'day_of_week', 'location', 'is_holiday', 'weather_condition',\n",
    "    'total_slots', 'free_slots_4w', 'free_slots_2w', 'event_nearby'\n",
    "])"
   ]
  },
  {
   "cell_type": "code",
   "execution_count": 13,
   "id": "e72e7ac8-7a7f-47c4-b337-ff4e9ab6d570",
   "metadata": {},
   "outputs": [
    {
     "name": "stdout",
     "output_type": "stream",
     "text": [
      "✅ Dataset saved as 'bengaluru_parking_dataset.csv'\n",
      "          time day_of_week                   location  is_holiday  \\\n",
      "0  20:00-22:00      Monday  Citywide Parking Overview           0   \n",
      "1  14:00-16:00     Tuesday               Freedom Park           0   \n",
      "2  14:00-16:00   Wednesday              Church Street           0   \n",
      "3  08:00-10:00      Sunday               Freedom Park           0   \n",
      "4  16:00-18:00    Thursday          Commercial Street           0   \n",
      "\n",
      "  weather_condition  total_slots  free_slots_4w  free_slots_2w  event_nearby  \n",
      "0             Sunny         5300            261           1257             0  \n",
      "1             Sunny         1400            533            249             0  \n",
      "2             Windy          500             28             56             1  \n",
      "3             Windy         1400            187             62             1  \n",
      "4             Sunny          325             19             79             0  \n"
     ]
    }
   ],
   "source": [
    "# Save to CSV\n",
    "df.to_csv('bengaluru_parking_dataset.csv', index=False)\n",
    "print(\"✅ Dataset saved as 'bengaluru_parking_dataset.csv'\")\n",
    "print(df.head())"
   ]
  },
  {
   "cell_type": "code",
   "execution_count": null,
   "id": "46269432-04e6-4c75-8e78-c3c4a6b853bf",
   "metadata": {},
   "outputs": [],
   "source": []
  }
 ],
 "metadata": {
  "kernelspec": {
   "display_name": "Python [conda env:base] *",
   "language": "python",
   "name": "conda-base-py"
  },
  "language_info": {
   "codemirror_mode": {
    "name": "ipython",
    "version": 3
   },
   "file_extension": ".py",
   "mimetype": "text/x-python",
   "name": "python",
   "nbconvert_exporter": "python",
   "pygments_lexer": "ipython3",
   "version": "3.10.13"
  }
 },
 "nbformat": 4,
 "nbformat_minor": 5
}
